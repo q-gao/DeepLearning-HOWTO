{
 "cells": [
  {
   "cell_type": "markdown",
   "metadata": {},
   "source": [
    "From [Training Multi-Layer Neural Network with Caffe](http://nbviewer.jupyter.org/github/joyofdata/joyofdata-articles/blob/master/deeplearning-with-caffe/Neural-Networks-with-Caffe-on-the-GPU.ipynb)"
   ]
  },
  {
   "cell_type": "code",
   "execution_count": 2,
   "metadata": {
    "collapsed": true
   },
   "outputs": [],
   "source": [
    "import sys\n",
    "import subprocess\n",
    "import platform\n",
    "import caffe\n",
    "caffe.set_mode_gpu()\n",
    "import lmdb\n",
    "\n",
    "from sklearn.cross_validation import StratifiedShuffleSplit\n",
    "import pandas as pd\n",
    "import numpy as np\n",
    "\n",
    "import matplotlib.pyplot as plt\n",
    "%matplotlib inline"
   ]
  },
  {
   "cell_type": "code",
   "execution_count": 3,
   "metadata": {
    "collapsed": false
   },
   "outputs": [
    {
     "name": "stdout",
     "output_type": "stream",
     "text": [
      "OS:      Linux-4.4.0-59-generic-x86_64-with-debian-jessie-sid\n",
      "Python:  2.7.12 |Anaconda custom (64-bit)| (default, Jul  2 2016, 17:42:40) \n",
      "CUDA:    Cuda compilation tools, release 8.0, V8.0.44\n",
      "LMDB:    0.9.18\n"
     ]
    }
   ],
   "source": [
    "print \"OS:     \", platform.platform()\n",
    "print \"Python: \", sys.version.split(\"\\n\")[0]\n",
    "print \"CUDA:   \", subprocess.Popen([\"nvcc\",\"--version\"], stdout=subprocess.PIPE).communicate()[0].split(\"\\n\")[3]\n",
    "print \"LMDB:   \", \".\".join([str(i) for i in lmdb.version()])"
   ]
  },
  {
   "cell_type": "markdown",
   "metadata": {},
   "source": [
    "## Load Data from CSV and Transform\n",
    "\"Otto Group Product Classification Challenge\" at Kaggle"
   ]
  },
  {
   "cell_type": "code",
   "execution_count": 4,
   "metadata": {
    "collapsed": false
   },
   "outputs": [],
   "source": [
    "df = pd.read_csv(\"train.csv\", sep=\",\")\n",
    "features = df.ix[:,1:-1].as_matrix()\n",
    "labels = df.ix[:,-1].as_matrix()"
   ]
  },
  {
   "cell_type": "code",
   "execution_count": 17,
   "metadata": {
    "collapsed": false
   },
   "outputs": [],
   "source": [
    "import math\n",
    "vec_log = np.vectorize(lambda x: math.log(x+1))\n",
    "vec_int = np.vectorize(lambda str: int(str[-1])-1)"
   ]
  },
  {
   "cell_type": "code",
   "execution_count": 18,
   "metadata": {
    "collapsed": false
   },
   "outputs": [],
   "source": [
    "features = vec_log(features)\n",
    "labels = vec_int(labels)"
   ]
  },
  {
   "cell_type": "markdown",
   "metadata": {},
   "source": [
    "## Stratified Split for Training and Testing"
   ]
  },
  {
   "cell_type": "code",
   "execution_count": 21,
   "metadata": {
    "collapsed": true
   },
   "outputs": [],
   "source": [
    "sss = StratifiedShuffleSplit(labels, 1, test_size=0.02, random_state=0)\n",
    "sss = list(sss)[0]"
   ]
  },
  {
   "cell_type": "code",
   "execution_count": 22,
   "metadata": {
    "collapsed": true
   },
   "outputs": [],
   "source": [
    "features_training = features[sss[0],]\n",
    "labels_training = labels[sss[0],]\n",
    "\n",
    "features_testing = features[sss[1],]\n",
    "labels_testing = labels[sss[1],]"
   ]
  },
  {
   "cell_type": "markdown",
   "metadata": {},
   "source": [
    "## Load Data into LMDB\n",
    "The following function seems very slow!!"
   ]
  },
  {
   "cell_type": "code",
   "execution_count": 23,
   "metadata": {
    "collapsed": true
   },
   "outputs": [],
   "source": [
    "# http://deepdish.io/2015/04/28/creating-lmdb-in-python/\n",
    "def load_data_into_lmdb(lmdb_name, features, labels=None):\n",
    "    env = lmdb.open(lmdb_name, map_size=features.nbytes*2)\n",
    "    \n",
    "    features = features[:,:,None,None]\n",
    "    for i in range(features.shape[0]):\n",
    "        datum = caffe.proto.caffe_pb2.Datum()\n",
    "        \n",
    "        datum.channels = features.shape[1]\n",
    "        datum.height = 1\n",
    "        datum.width = 1\n",
    "        \n",
    "        if features.dtype == np.int:\n",
    "            datum.data = features[i].tostring()\n",
    "        elif features.dtype == np.float: \n",
    "            datum.float_data.extend(features[i].flat)\n",
    "        else:\n",
    "            raise Exception(\"features.dtype unknown.\")\n",
    "        \n",
    "        if labels is not None:\n",
    "            datum.label = int(labels[i])\n",
    "        \n",
    "        str_id = '{:08}'.format(i)\n",
    "        with env.begin(write=True) as txn:\n",
    "            txn.put(str_id, datum.SerializeToString())"
   ]
  },
  {
   "cell_type": "code",
   "execution_count": 30,
   "metadata": {
    "collapsed": false
   },
   "outputs": [
    {
     "name": "stdout",
     "output_type": "stream",
     "text": [
      "8\n"
     ]
    }
   ],
   "source": [
    "print features.nbytes / features.shape[0]/features.shape[1]"
   ]
  },
  {
   "cell_type": "code",
   "execution_count": null,
   "metadata": {
    "collapsed": true
   },
   "outputs": [],
   "source": [
    "load_data_into_lmdb(\"train_data_lmdb\", features_training, labels_training)\n",
    "load_data_into_lmdb(\"test_data_lmdb\", features_testing, labels_testing)"
   ]
  },
  {
   "cell_type": "code",
   "execution_count": null,
   "metadata": {
    "collapsed": true
   },
   "outputs": [],
   "source": [
    "features_training.shape"
   ]
  }
 ],
 "metadata": {
  "anaconda-cloud": {},
  "kernelspec": {
   "display_name": "Python [default]",
   "language": "python",
   "name": "python2"
  },
  "language_info": {
   "codemirror_mode": {
    "name": "ipython",
    "version": 2
   },
   "file_extension": ".py",
   "mimetype": "text/x-python",
   "name": "python",
   "nbconvert_exporter": "python",
   "pygments_lexer": "ipython2",
   "version": "2.7.12"
  }
 },
 "nbformat": 4,
 "nbformat_minor": 1
}
